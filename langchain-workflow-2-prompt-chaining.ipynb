{
 "cells": [
  {
   "cell_type": "code",
   "execution_count": 7,
   "id": "52002208",
   "metadata": {},
   "outputs": [
    {
     "name": "stdout",
     "output_type": "stream",
     "text": [
      "Applying os.environ variables:\n",
      "Applying HUGGING_FACE_KEY\n",
      "Applying HUGGINGFACEHUB_API_TOKEN\n",
      "Applying OPENAI_API_KEY\n",
      "Applying SERPAPI_API_KEY\n",
      "Applying PINECONE_API_KEY\n",
      "Applying PINECONE_API_ENV\n",
      "Applying PINECONE_API_KEY_2\n",
      "Applying PINECONE_API_ENV_2\n"
     ]
    }
   ],
   "source": [
    "import json\n",
    "from my_settings import apply_settings\n",
    "\n",
    "apply_settings()\n",
    "\n",
    "from llm_factory import get_llm\n",
    "llm = get_llm()"
   ]
  },
  {
   "cell_type": "code",
   "execution_count": 9,
   "id": "3c62060a",
   "metadata": {},
   "outputs": [],
   "source": [
    "from my_utils import get_all_recipes_com_recipe\n",
    "\n",
    "recipe = get_all_recipes_com_recipe(\"https://www.allrecipes.com/recipe/8517111/tiktok-salmon-bowl/\")\n",
    "#json.dumps(recipe, indent=2)"
   ]
  },
  {
   "cell_type": "code",
   "execution_count": null,
   "id": "4e46350c",
   "metadata": {},
   "outputs": [],
   "source": [
    "msg = llm.invoke(f\"\"\"\n",
    "You are an expert chef who teaches people to cook. \n",
    "\n",
    "\"\"\")"
   ]
  }
 ],
 "metadata": {
  "kernelspec": {
   "display_name": ".venv",
   "language": "python",
   "name": "python3"
  },
  "language_info": {
   "codemirror_mode": {
    "name": "ipython",
    "version": 3
   },
   "file_extension": ".py",
   "mimetype": "text/x-python",
   "name": "python",
   "nbconvert_exporter": "python",
   "pygments_lexer": "ipython3",
   "version": "3.10.6"
  }
 },
 "nbformat": 4,
 "nbformat_minor": 5
}
